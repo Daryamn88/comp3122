{
 "cells": [
  {
   "cell_type": "markdown",
   "metadata": {},
   "source": [
    "### String formatting\n",
    "You have a few Python variables that describe your age, name, and favorite food:\n",
    "```\n",
    "name = \"Leonardo\"\n",
    "age = 27\n",
    "favourite_food = \"Pizza\"\n",
    "```\n",
    "Using these variables, create the following string to introduce yourself:\n",
    "```\n",
    "\"Hi! My name is Leonardo. I am 27 years old, and my favorite food is Pizza.\"\n",
    "```"
   ]
  },
  {
   "cell_type": "code",
   "execution_count": 4,
   "metadata": {},
   "outputs": [],
   "source": [
    "name = \"Darya\"\n",
    "age = 23\n",
    "favourite_food = \"Burgers\""
   ]
  },
  {
   "cell_type": "code",
   "execution_count": 5,
   "metadata": {},
   "outputs": [
    {
     "name": "stdout",
     "output_type": "stream",
     "text": [
      "Hi! My name is Darya. I am 23 years old, and my favorite food is Burgers.\n"
     ]
    }
   ],
   "source": [
    "# your code here\n",
    "\n",
    "print(\"Hi! My name is {0}. I am {1} years old, and my favorite food is {2}.\".format(name, age, favourite_food))"
   ]
  },
  {
   "cell_type": "markdown",
   "metadata": {},
   "source": [
    "### Letter case or logic case?\n",
    "Write a functiond which accepts a string as input to print \"Yes\" if the string is \"yes\" or \"YES\" or \"Yes\", otherwise print \"No\".\n",
    "\n",
    "Examples:\n",
    "```\n",
    "say_yes_maybe(\"yes\") -> \"Yes\"\n",
    "say_yes_maybe(\"YeS\") -> \"No\"\n",
    "say_yes_maybe(\"maybe\") - > \"No\"\n",
    "\n",
    "```"
   ]
  },
  {
   "cell_type": "code",
   "execution_count": 34,
   "metadata": {},
   "outputs": [],
   "source": [
    "def say_yes_maybe(s):\n",
    "    if s == \"yes\" or s == \"YES\" or s == \"Yes\":\n",
    "        return \"Yes\"\n",
    "    else:\n",
    "        return \"No\""
   ]
  },
  {
   "cell_type": "code",
   "execution_count": 35,
   "metadata": {},
   "outputs": [],
   "source": [
    "# tests\n",
    "assert say_yes_maybe(\"yes\") == \"Yes\"\n",
    "assert say_yes_maybe(\"YES\") == \"Yes\"\n",
    "assert say_yes_maybe(\"Yes\") == \"Yes\"\n",
    "assert say_yes_maybe(\"no\") == \"No\"\n",
    "assert say_yes_maybe(\"YeS\") == \"No\""
   ]
  },
  {
   "cell_type": "markdown",
   "metadata": {},
   "source": [
    "### Filter Positive Numbers\n",
    "\n",
    "Given a list of integers, write a Python script to create a new list that only contains the positive numbers from the original list.\n",
    "\n",
    "Example:\n",
    "```\n",
    "Input: [1, -2, 3, -4, 5, -6, 7, -8, 9, -10]\n",
    "Output: [1, 3, 5, 7, 9]\n",
    "```"
   ]
  },
  {
   "cell_type": "code",
   "execution_count": 53,
   "metadata": {},
   "outputs": [],
   "source": [
    "#you code here\n",
    "def filter_pos_num(lst):\n",
    "    return [num for num in lst if num > 0]"
   ]
  },
  {
   "cell_type": "code",
   "execution_count": 54,
   "metadata": {},
   "outputs": [],
   "source": [
    "#tests\n",
    "assert filter_pos_num([1, 2, 3, 4, 5]) == [1, 2, 3, 4, 5]\n",
    "assert filter_pos_num([-1, -2, -3, -4, -5]) == []\n",
    "assert filter_pos_num([1, 2, 3, -4, -5]) == [1, 2, 3]"
   ]
  },
  {
   "cell_type": "markdown",
   "metadata": {},
   "source": [
    "### Sums of positives and negatives\n",
    "Given a list of numbers, print separately the sum of all positive numbers in the list and the sum of all negative numbers in the list. \n",
    "\n",
    "Example:\n",
    "```\n",
    "lst = [1,-2,3,5,-8]\n",
    "9 # is the sum of 1 + 3 + 5\n",
    "-10 # is the sum of -2 + -8\n",
    "```"
   ]
  },
  {
   "cell_type": "code",
   "execution_count": 62,
   "metadata": {},
   "outputs": [
    {
     "name": "stdout",
     "output_type": "stream",
     "text": [
      "The sum of 1 + 3 + 5 is 9\n",
      "The sum of -2 + -8 is -10\n",
      "None\n"
     ]
    }
   ],
   "source": [
    "#your code here\n",
    "def sum_pos_num_neg_num(lst):\n",
    "    positives = [num for num in lst if num > 0]\n",
    "    negatives = [num for num in lst if num < 0]\n",
    "    print(f\"The sum of {' + '.join(map(str, positives))} is {sum(positives)}\")\n",
    "    print(f\"The sum of {' + '.join(map(str, negatives))} is {sum(negatives)}\")\n",
    "    \n",
    "    \n",
    "print (sum_pos_num_neg_num([1,-2,3,5,-8]))"
   ]
  },
  {
   "cell_type": "markdown",
   "metadata": {},
   "source": [
    "### Count Vowels and Consonants\n",
    "\n",
    "Write a Python script that takes a string input and counts the number of vowels and consonants in the string. Start with this string `\"Python Programming is Fun!\"`.\n",
    "\n",
    "Hint: \n",
    "- use input_string.lower() to convert the string to lowercase\n",
    "- for a given char use `char.isalpha()` to check if it is a letter\n",
    "- check if char is in `['a', 'e', 'i', 'o', 'u']` to check if it is a vowel."
   ]
  },
  {
   "cell_type": "code",
   "execution_count": 63,
   "metadata": {},
   "outputs": [],
   "source": [
    "VOWELS = [\"a\", \"e\", \"i\", \"o\", \"u\"]"
   ]
  },
  {
   "cell_type": "code",
   "execution_count": 77,
   "metadata": {},
   "outputs": [
    {
     "name": "stdout",
     "output_type": "stream",
     "text": [
      "number of vowels is : 6\n",
      "number of consonants is : 16\n"
     ]
    }
   ],
   "source": [
    "#your code here\n",
    "def count_vowels_consonants(s):\n",
    "    s = s.lower()\n",
    "    vowels = 0\n",
    "    consonants = 0\n",
    "    for char in s:\n",
    "            if char.isalpha():\n",
    "                if char in VOWELS:\n",
    "                    vowels +=1\n",
    "                else:\n",
    "                    consonants +=1\n",
    "    print(\"number of vowels is : {0}\".format(vowels))\n",
    "    print(\"number of consonants is : {0}\".format(consonants))\n",
    "\n",
    "count_vowels_consonants(\"python programming is fun!\")"
   ]
  },
  {
   "cell_type": "markdown",
   "metadata": {},
   "source": [
    "### Super vowels\n",
    "Implement `super_vowels` function which takes a string as an argument and returns a modified version of that string. In the return value of `super_vowels`, all vowels should be in upper case whereas all consonants should be in lower case. The vowels are listed in the `VOWELS` variable."
   ]
  },
  {
   "cell_type": "code",
   "execution_count": 68,
   "metadata": {},
   "outputs": [],
   "source": [
    "VOWELS = [\"a\", \"e\", \"i\", \"o\", \"u\"]"
   ]
  },
  {
   "cell_type": "code",
   "execution_count": 73,
   "metadata": {},
   "outputs": [],
   "source": [
    "# Your implementation here\n",
    "def super_vowels(s):\n",
    "    s = s.lower()\n",
    "    result = ''\n",
    "    for char in s:\n",
    "            if char in VOWELS:\n",
    "              result += char.upper()\n",
    "            elif char.isalpha(): \n",
    "              result += char.lower()  \n",
    "            else:\n",
    "              result += char.lower()\n",
    "    return result\n",
    "    "
   ]
  },
  {
   "cell_type": "code",
   "execution_count": 74,
   "metadata": {},
   "outputs": [],
   "source": [
    "# tests\n",
    "assert super_vowels(\"hi wassup!\") == \"hI wAssUp!\"\n",
    "assert super_vowels(\"HOw aRE You?\") == \"hOw ArE yOU?\""
   ]
  },
  {
   "cell_type": "markdown",
   "metadata": {},
   "source": [
    "### Salad weight\n",
    "You are given a recipe for a salad as a dictionary. The keys are the ingredient names and the values are the amounts given in grams. Calculate the total weight of the salad."
   ]
  },
  {
   "cell_type": "code",
   "execution_count": 75,
   "metadata": {},
   "outputs": [],
   "source": [
    "salad = {\n",
    "    \"cucumbers\": 100,\n",
    "    \"tomatoes\": 200,\n",
    "    \"radishes\": 50,\n",
    "    \"sour cream\": 200,\n",
    "}"
   ]
  },
  {
   "cell_type": "code",
   "execution_count": 78,
   "metadata": {},
   "outputs": [
    {
     "name": "stdout",
     "output_type": "stream",
     "text": [
      "the weight of the salad is 550 grams\n"
     ]
    }
   ],
   "source": [
    "#you code here\n",
    "salad_weight = sum(salad.values())\n",
    "print(\"the weight of the salad is {0} grams\".format(salad_weight))"
   ]
  },
  {
   "cell_type": "markdown",
   "metadata": {},
   "source": [
    "### String formatting with numbers - advanced\n",
    "You can use the following code to print the value of Pi\n",
    "```\n",
    "import math\n",
    "x = math.pi\n",
    "print(x)\n",
    "```\n",
    "The output is: 3.141592653589793\n",
    "\n",
    "Write a function `short_pi()` that returns a string with only n digits of pi after the period\n",
    "Examples:\n",
    "```\n",
    "short_pi(2) -> \"3.14\"\n",
    "short_pi(5) -> \"3.14159\" \n",
    "```"
   ]
  },
  {
   "cell_type": "code",
   "execution_count": 79,
   "metadata": {},
   "outputs": [
    {
     "name": "stdout",
     "output_type": "stream",
     "text": [
      "3.141592653589793\n"
     ]
    }
   ],
   "source": [
    "# example\n",
    "import math\n",
    "x = math.pi\n",
    "print(x)"
   ]
  },
  {
   "cell_type": "code",
   "execution_count": 80,
   "metadata": {},
   "outputs": [],
   "source": [
    "def short_pi(n):\n",
    "    pi = f\"{math.pi:.{n}f}\"\n",
    "    return pi"
   ]
  },
  {
   "cell_type": "code",
   "execution_count": 81,
   "metadata": {},
   "outputs": [],
   "source": [
    "# tests\n",
    "assert short_pi(2) == \"3.14\"\n",
    "assert short_pi(5) == \"3.14159\""
   ]
  },
  {
   "cell_type": "markdown",
   "metadata": {},
   "source": [
    "### Reverse a string - two pointer approach\n",
    "Write a function that reverses a string. The input string is given as an array of characters s.\n",
    "\n",
    "You must do this by modifying the input array in-place with O(1) extra memory.\n",
    "\n",
    " \n",
    "Example 1:\n",
    "```\n",
    "Input: s = [\"h\",\"e\",\"l\",\"l\",\"o\"]\n",
    "Output: [\"o\",\"l\",\"l\",\"e\",\"h\"]\n",
    "```\n",
    "\n",
    "Example 2:\n",
    "```\n",
    "Input: s = [\"H\",\"a\",\"n\",\"n\",\"a\",\"h\"]\n",
    "Output: [\"h\",\"a\",\"n\",\"n\",\"a\",\"H\"]\n",
    "```"
   ]
  },
  {
   "cell_type": "code",
   "execution_count": 86,
   "metadata": {},
   "outputs": [
    {
     "name": "stdout",
     "output_type": "stream",
     "text": [
      "['o', 'l', 'l', 'e', 'h']\n",
      "['h', 'a', 'n', 'n', 'a', 'H']\n"
     ]
    }
   ],
   "source": [
    "def reverse_string(s):\n",
    "    left, right = 0, len(s) - 1\n",
    "    while left < right:\n",
    "        s[left], s[right] = s[right], s[left]\n",
    "        left += 1\n",
    "        right -= 1\n",
    "\n",
    "s1 = [\"h\", \"e\", \"l\", \"l\", \"o\"]\n",
    "reverse_string(s1)\n",
    "print(s1) \n",
    "\n",
    "s2 = [\"H\", \"a\", \"n\", \"n\", \"a\", \"h\"]\n",
    "reverse_string(s2)\n",
    "print(s2) \n"
   ]
  }
 ],
 "metadata": {
  "kernelspec": {
   "display_name": ".pydata",
   "language": "python",
   "name": "python3"
  },
  "language_info": {
   "codemirror_mode": {
    "name": "ipython",
    "version": 3
   },
   "file_extension": ".py",
   "mimetype": "text/x-python",
   "name": "python",
   "nbconvert_exporter": "python",
   "pygments_lexer": "ipython3",
   "version": "3.12.5"
  }
 },
 "nbformat": 4,
 "nbformat_minor": 2
}
